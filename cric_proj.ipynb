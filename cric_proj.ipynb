{
 "cells": [
  {
   "cell_type": "code",
   "execution_count": 26,
   "id": "31a2b12b-4f11-42bd-b187-6eec030c22ff",
   "metadata": {
    "scrolled": true
   },
   "outputs": [],
   "source": [
    "#pip install pandas"
   ]
  },
  {
   "cell_type": "code",
   "execution_count": 27,
   "id": "111d7c21-4f8d-4600-8c18-290177af7e8d",
   "metadata": {},
   "outputs": [],
   "source": [
    "import json\n",
    "import pandas as pd\n",
    "import os\n",
    "from collections import defaultdict"
   ]
  },
  {
   "cell_type": "code",
   "execution_count": 42,
   "id": "a36bfa50-68d5-4daf-8b7f-428a4d09290a",
   "metadata": {},
   "outputs": [],
   "source": [
    "batter_summary = defaultdict(list)\n",
    "bowler_summary = defaultdict(list)\n",
    "match_summary = defaultdict(list)"
   ]
  },
  {
   "cell_type": "code",
   "execution_count": 29,
   "id": "74e4ce2a-3d9f-424c-9831-2f39780f247d",
   "metadata": {},
   "outputs": [],
   "source": [
    "match_id = defaultdict(list)"
   ]
  },
  {
   "cell_type": "code",
   "execution_count": null,
   "id": "eca2ebe6-98ce-4ac8-857f-8c0cb0ca2908",
   "metadata": {},
   "outputs": [],
   "source": []
  },
  {
   "cell_type": "code",
   "execution_count": 30,
   "id": "8688016c-a546-4aa0-ba7f-469457b38c02",
   "metadata": {},
   "outputs": [],
   "source": [
    "# for file_name in os.listdir('odis_json_cricsheet'):\n",
    "#     if file_name.endswith('.json'):\n",
    "#         with open(os.path.join('odis_json_cricsheet', file_name), 'r') as file:\n",
    "#             match_data = json.load(file)\n",
    "#             match_id[file_name]= match_data['info']['match_type_number']"
   ]
  },
  {
   "cell_type": "code",
   "execution_count": 31,
   "id": "b636fa9c-7a9f-4894-b67b-ff69011636fb",
   "metadata": {},
   "outputs": [],
   "source": [
    "#match_id.values()"
   ]
  },
  {
   "cell_type": "code",
   "execution_count": 32,
   "id": "30f9f549-29db-4272-b1b3-78068d5219bb",
   "metadata": {},
   "outputs": [],
   "source": [
    "# sum=0\n",
    "# for i in man_of_match:\n",
    "#     if '' == match_event[i]:\n",
    "#         sum+=1\n",
    "# print(sum)"
   ]
  },
  {
   "cell_type": "code",
   "execution_count": null,
   "id": "397c006f-863f-4508-9531-526aca4329ed",
   "metadata": {},
   "outputs": [],
   "source": []
  },
  {
   "cell_type": "code",
   "execution_count": 33,
   "id": "9b95f703-34c2-4667-8bae-72f18c14a868",
   "metadata": {
    "scrolled": true
   },
   "outputs": [],
   "source": [
    "#with open('C:/Users/fazal/Desktop/Fazal/projects/odis_json_cricsheet/64814.json', 'r') as file:\n",
    "   # match_data = json.load(file)"
   ]
  },
  {
   "cell_type": "code",
   "execution_count": null,
   "id": "a9beff40-8343-41d8-9c0a-7cfd4cd74531",
   "metadata": {},
   "outputs": [],
   "source": []
  },
  {
   "cell_type": "code",
   "execution_count": 43,
   "id": "0ad96e71-0090-4253-9c56-65056d2a5396",
   "metadata": {},
   "outputs": [],
   "source": [
    "def process_file(file_path):\n",
    "    with open(file_path, 'r') as file:\n",
    "        match_data = json.load(file)\n",
    "\n",
    "        match_date = match_data['info']['dates'][0]\n",
    "        match_venue = match_data['info']['venue']\n",
    "        match_event = match_data['info'].get('event', {}).get('name',None)\n",
    "        man_of_match = match_data['info'].get('player_of_match', [None])[0]\n",
    "        match_winner = match_data['info'].get('outcome', {}).get('winner', None)            \n",
    "        match_id = match_data['info']['match_type_number']\n",
    "\n",
    "        if match_id not in match_summary:\n",
    "            match_summary[match_id] = {\n",
    "                'match_date': match_date,\n",
    "                'match_venue' : match_venue,\n",
    "                'match_event' : match_event,\n",
    "                'man_of_match' : man_of_match,\n",
    "                'match_winner' : match_winner,\n",
    "            }\n",
    "            \n",
    "        runs_batter = defaultdict(int)\n",
    "        balls_batter = defaultdict(int)\n",
    "        runs_bowler = defaultdict(int)\n",
    "        balls_bowler = defaultdict(int)\n",
    "        fours_batter = defaultdict(int)\n",
    "        sixes_batter = defaultdict(int)\n",
    "        fours_bowler = defaultdict(int)\n",
    "        sixes_bowler = defaultdict(int)\n",
    "        maiden_bowler = defaultdict(int)\n",
    "        out_notout = defaultdict(int)\n",
    "        wickets_bowler = defaultdict(int)\n",
    "        \n",
    "        for inn in match_data['innings']:\n",
    "            for over_itr in inn['overs']:\n",
    "                dot_ball = 0\n",
    "                for ball in over_itr['deliveries']:\n",
    "    \n",
    "                    batter = ball['batter']\n",
    "    \n",
    "                    #runs, fours, sixes.....\n",
    "                    \n",
    "                    if batter not in runs_batter:\n",
    "                        runs_batter[batter] = 0\n",
    "                        fours_batter[batter] = 0\n",
    "                        sixes_batter[batter] = 0\n",
    "                    runs_batter[batter] += ball['runs']['batter']\n",
    "                    if ball['runs']['batter'] == 4:\n",
    "                        fours_batter[batter] += 1\n",
    "                    elif ball['runs']['batter']==6:\n",
    "                        sixes_batter[batter] += 1\n",
    "    \n",
    "                    #balls......\n",
    "                    \n",
    "                    if batter not in balls_batter:\n",
    "                        balls_batter[batter] = 0\n",
    "                    if 'extras' in ball:\n",
    "                        if 'wides' in ball['extras']:\n",
    "                            pass\n",
    "                        else:\n",
    "                            balls_batter[batter] += 1\n",
    "                    else:\n",
    "                        balls_batter[batter] += 1\n",
    "    \n",
    "                    #out........\n",
    "                    \n",
    "                    if batter not in out_notout:\n",
    "                        out_notout[batter] = 0\n",
    "                    if 'wickets' in ball:\n",
    "                        if ball['wickets'][0]['player_out'] == batter:\n",
    "                            out_notout[batter] = 1\n",
    "    \n",
    "                    ##BOWLER STATS\n",
    "                    bowler = ball['bowler']\n",
    "    \n",
    "                    #runs, fours, sixes.....\n",
    "                    \n",
    "                    if bowler not in runs_bowler:\n",
    "                        runs_bowler[bowler] = 0\n",
    "                        fours_bowler[bowler] = 0\n",
    "                        sixes_bowler[bowler] = 0\n",
    "                    runs_bowler[bowler] += ball['runs']['batter']\n",
    "                    \n",
    "                    if 'extras' in ball:\n",
    "                        if 'wides' in ball['extras']:\n",
    "                            runs_bowler[bowler] +=ball['extras']['wides']\n",
    "                        elif 'noballs' in ball['extras']:\n",
    "                            runs_bowler[bowler] += ball['extras']['noballs']\n",
    "                    \n",
    "                    if ball['runs']['batter'] == 4:\n",
    "                        fours_bowler[bowler] += 1\n",
    "                    elif ball['runs']['batter']==6:\n",
    "                        sixes_bowler[bowler] += 1\n",
    "    \n",
    "                    #balls......\n",
    "                    \n",
    "                    if bowler not in balls_bowler:\n",
    "                        balls_bowler[bowler] = 0\n",
    "                    if 'extras' in ball:\n",
    "                        if ('wides' in ball['extras']) or ('noballs' in ball['extras']):\n",
    "                            pass\n",
    "                        else:\n",
    "                            balls_bowler[bowler] += 1\n",
    "                    else:\n",
    "                        balls_bowler[bowler] += 1\n",
    "    \n",
    "                    #maiden\n",
    "                    if 'extras' in ball and ('wides' in ball['extras'] or 'noballs' in ball['extras']):\n",
    "                        dot_ball = -100\n",
    "            \n",
    "                    if ball['runs']['batter']==0:\n",
    "                        dot_ball += 1\n",
    "                        \n",
    "                    #wickets\n",
    "    \n",
    "                    if bowler not in wickets_bowler:\n",
    "                        wickets_bowler[bowler] = 0\n",
    "                    if 'wickets' in ball:\n",
    "                        if ball['wickets'][0]['kind'] != 'run out':\n",
    "                            wickets_bowler[bowler] += 1\n",
    "\n",
    "                #updating maiden over after end of each over if no runs scored(batter or wides,noballs)            \n",
    "                if bowler not in maiden_bowler:\n",
    "                    maiden_bowler[bowler] = 0\n",
    "                if dot_ball==6:\n",
    "                    maiden_bowler[bowler] += 1\n",
    "\n",
    "        for team in match_data['info']['players']:\n",
    "            for player in match_data['info']['players'][team]:\n",
    "                if player not in batter_summary:\n",
    "                    batter_summary[player] = []\n",
    "                batter_summary[player].append({\n",
    "                    'match_id' : match_id,\n",
    "                    'team' : team,\n",
    "                    'm_o_m' : 1 if player==man_of_match else 0,\n",
    "                    'runs' : runs_batter[player],\n",
    "                    'balls' : balls_batter[player],\n",
    "                    'fours' : fours_batter[player],\n",
    "                    'sixes' : sixes_batter[player],\n",
    "                    'out_notout' : out_notout[player],\n",
    "                })\n",
    "\n",
    "                if player not in bowler_summary:\n",
    "                    bowler_summary[player] = []\n",
    "                bowler_summary[player].append({\n",
    "                    'match_id' : match_id,\n",
    "                    'team' : team,\n",
    "                    'm_o_m' : 1 if player==man_of_match else 0,\n",
    "                    'runs' : runs_bowler[player],\n",
    "                    'balls' : balls_bowler[player],\n",
    "                    'wickets' : wickets_bowler[player],\n",
    "                    'maiden' : maiden_bowler[player],\n",
    "                \n",
    "                })"
   ]
  },
  {
   "cell_type": "code",
   "execution_count": 44,
   "id": "809418ff-582e-4619-9f25-a62ab16b194d",
   "metadata": {},
   "outputs": [],
   "source": [
    "for file_name in os.listdir('odis_json_cricsheet'):\n",
    "    if file_name.endswith('.json'):\n",
    "        process_file(os.path.join('odis_json_cricsheet', file_name))\n",
    "        "
   ]
  },
  {
   "cell_type": "code",
   "execution_count": null,
   "id": "aa2ae991-f6d8-45fc-86b4-37ed64c092c0",
   "metadata": {},
   "outputs": [],
   "source": [
    "#batter_summary"
   ]
  },
  {
   "cell_type": "code",
   "execution_count": null,
   "id": "85500cb2-8a1c-43d3-ac62-726add00f8ff",
   "metadata": {},
   "outputs": [],
   "source": []
  },
  {
   "cell_type": "code",
   "execution_count": null,
   "id": "db7a7e17-97ca-4b26-8803-ac69767ff2db",
   "metadata": {},
   "outputs": [],
   "source": []
  },
  {
   "cell_type": "code",
   "execution_count": 37,
   "id": "e636553f-7de3-42dd-a44c-0a3c9eff8db6",
   "metadata": {},
   "outputs": [],
   "source": [
    "# for itr in batter_summary['Shubman Gill']:\n",
    "#     print(itr)"
   ]
  },
  {
   "cell_type": "code",
   "execution_count": 38,
   "id": "731e97af-8d1e-4bdc-8ab2-48cf26cd39cb",
   "metadata": {},
   "outputs": [],
   "source": [
    "# bowler_summary['DR Tuffey']"
   ]
  },
  {
   "cell_type": "code",
   "execution_count": 46,
   "id": "04611535-902b-49e5-bb3e-2c296a463774",
   "metadata": {},
   "outputs": [
    {
     "name": "stdout",
     "output_type": "stream",
     "text": [
      "✅ Batter and Bowler summaries saved successfully!\n",
      "✅ Match summary CSV saved successfully!\n"
     ]
    }
   ],
   "source": [
    "import pandas as pd\n",
    "\n",
    "# Convert match_summary dictionary to DataFrame\n",
    "fixed_match_summary = {}\n",
    "\n",
    "for match_id, match_data in match_summary.items():\n",
    "    # Ensure match_data is a dictionary (not an empty list)\n",
    "    if isinstance(match_data, list):\n",
    "        if len(match_data) > 0:  # Check if list is not empty\n",
    "            match_data = match_data[0]  # Extract first dictionary\n",
    "        else:\n",
    "            continue  # Skip this match if it's an empty list\n",
    "\n",
    "    fixed_match_summary[match_id] = {\n",
    "        'match_date': match_data['match_date'][0] if isinstance(match_data['match_date'], list) else match_data['match_date'],\n",
    "        'match_venue': match_data.get('match_venue', ''),  # Use get() to prevent KeyErrors\n",
    "        'match_event': match_data.get('match_event', ''),\n",
    "        'man_of_match': match_data['man_of_match'][0] if isinstance(match_data['man_of_match'], list) else match_data['man_of_match'],\n",
    "        'match_winner': match_data.get('match_winner', '')\n",
    "    }\n",
    "\n",
    "df_match_summary = pd.DataFrame.from_dict(fixed_match_summary, orient='index').reset_index()\n",
    "df_match_summary.rename(columns={'index': 'match_id'}, inplace=True)\n",
    "\n",
    "# Convert batter_summary to DataFrame\n",
    "batter_records = []\n",
    "for batter in batter_summary.keys():\n",
    "    for match in batter_summary[batter]:\n",
    "        match['batter'] = batter  # Add batter name to record\n",
    "        batter_records.append(match)\n",
    "\n",
    "df_batter_summary = pd.DataFrame(batter_records)\n",
    "\n",
    "# Convert bowler_summary to DataFrame\n",
    "bowler_records = []\n",
    "for bowler in bowler_summary.keys():\n",
    "    for match in bowler_summary[bowler]:\n",
    "        match['bowler'] = bowler  # Add bowler name to record\n",
    "        bowler_records.append(match)\n",
    "\n",
    "df_bowler_summary = pd.DataFrame(bowler_records)\n",
    "\n",
    "# Save DataFrame to CSV\n",
    "df_batter_summary.to_csv(\"batter_summary.csv\", index=False)\n",
    "df_bowler_summary.to_csv(\"bowler_summary.csv\", index=False)\n",
    "\n",
    "print(\"✅ Batter and Bowler summaries saved successfully!\")\n",
    "df_match_summary.to_csv(\"match_summary.csv\", index=False)\n",
    "\n",
    "print(\"✅ Match summary CSV saved successfully!\")\n"
   ]
  },
  {
   "cell_type": "code",
   "execution_count": 40,
   "id": "d259855e-da72-4d45-9e6b-227f217c00e3",
   "metadata": {
    "scrolled": true
   },
   "outputs": [],
   "source": [
    "# df_batter_summary[df_batter_summary['batter']=='PJ Cummins']"
   ]
  },
  {
   "cell_type": "code",
   "execution_count": null,
   "id": "346cc710-07c2-41ae-8a53-fe88df9f1b18",
   "metadata": {},
   "outputs": [],
   "source": []
  },
  {
   "cell_type": "code",
   "execution_count": null,
   "id": "1e634a52-a390-4e38-823c-0a40a9a90740",
   "metadata": {},
   "outputs": [],
   "source": []
  },
  {
   "cell_type": "code",
   "execution_count": null,
   "id": "8dc55337-007c-47fc-86ca-5c7de98e3e27",
   "metadata": {},
   "outputs": [],
   "source": []
  }
 ],
 "metadata": {
  "kernelspec": {
   "display_name": "Python 3 (ipykernel)",
   "language": "python",
   "name": "python3"
  },
  "language_info": {
   "codemirror_mode": {
    "name": "ipython",
    "version": 3
   },
   "file_extension": ".py",
   "mimetype": "text/x-python",
   "name": "python",
   "nbconvert_exporter": "python",
   "pygments_lexer": "ipython3",
   "version": "3.10.10"
  }
 },
 "nbformat": 4,
 "nbformat_minor": 5
}
